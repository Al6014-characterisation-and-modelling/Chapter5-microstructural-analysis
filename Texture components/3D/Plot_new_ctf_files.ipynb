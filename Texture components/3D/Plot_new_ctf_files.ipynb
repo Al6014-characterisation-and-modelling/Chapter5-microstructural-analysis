{
 "cells": [
  {
   "cell_type": "markdown",
   "metadata": {},
   "source": [
    "# Extract slices from 3D EBSD"
   ]
  },
  {
   "cell_type": "markdown",
   "metadata": {},
   "source": [
    "- To make this notebook work, you'll need the .dream3d file with your processed 3D-EBSD data and a .ctf file from one of your slices (raw data)"
   ]
  },
  {
   "cell_type": "markdown",
   "metadata": {},
   "source": [
    "- The blocks in yellow indicate where we need to input something or choose an option"
   ]
  },
  {
   "cell_type": "markdown",
   "metadata": {},
   "source": [
    "### Import packages"
   ]
  },
  {
   "cell_type": "code",
   "execution_count": 1,
   "metadata": {},
   "outputs": [],
   "source": [
    "import numpy as np\n",
    "import matplotlib.pyplot as plt\n",
    "import h5py\n",
    "from mpl_toolkits.mplot3d import Axes3D \n",
    "from scipy import ndimage\n",
    "from matplotlib.widgets import Slider, Button\n",
    "from matplotlib.colors import ListedColormap\n",
    "import os"
   ]
  },
  {
   "cell_type": "markdown",
   "metadata": {},
   "source": [
    "### Import your 3D-EBSD file in .dream3d format"
   ]
  },
  {
   "cell_type": "markdown",
   "metadata": {},
   "source": [
    "<div class=\"alert alert-block alert-warning\">\n",
    "<b>\n",
    "Import location and name of your .dream3d file\n",
    "\n",
    "</div>"
   ]
  },
  {
   "cell_type": "code",
   "execution_count": 2,
   "metadata": {},
   "outputs": [],
   "source": [
    "directory = 'NoBA/'\n",
    "filename = 'NoBA_microstructure_cleanfilled_grainshape_misor_KAM_IPF.dream3d'\n",
    "path = directory+filename"
   ]
  },
  {
   "cell_type": "markdown",
   "metadata": {},
   "source": [
    "### Read the .dream3d file. In h5py format"
   ]
  },
  {
   "cell_type": "code",
   "execution_count": 3,
   "metadata": {},
   "outputs": [],
   "source": [
    "f = h5py.File(path,'r')"
   ]
  },
  {
   "cell_type": "markdown",
   "metadata": {},
   "source": [
    "### Extract the data from the hdf5 file"
   ]
  },
  {
   "cell_type": "markdown",
   "metadata": {},
   "source": [
    "> Extract feature IDs (each feature ID corresponds to a different grain and the 0 value corresponds to non-indexed points. <br>\n",
    "<br>\n",
    "Extract all values required to write to ctf. Euler angles are provided in radians. Assumed Bunge notation, so phi1, Phi, phi2\n"
   ]
  },
  {
   "cell_type": "code",
   "execution_count": 4,
   "metadata": {},
   "outputs": [
    {
     "name": "stdout",
     "output_type": "stream",
     "text": [
      "(547, 261, 494)\n"
     ]
    }
   ],
   "source": [
    "feature_IDs = f['DataContainers']['ImageDataContainer']['CellData']['FeatureIds'][:,:,:,0]\n",
    "\n",
    "euler_angles = f['DataContainers']['ImageDataContainer']['CellData']['EulerAngles']\n",
    "phi_1 = euler_angles[:,:,:,0]\n",
    "Phi = euler_angles[:,:,:,1]\n",
    "phi_2 = euler_angles[:,:,:,2]\n",
    "\n",
    "#BCs = f['DataContainers']['ImageDataContainer']['CellData']['BC'][:,:,:,0]\n",
    "BSs = f['DataContainers']['ImageDataContainer']['CellData']['BS'][:,:,:,0]\n",
    "MADs = f['DataContainers']['ImageDataContainer']['CellData']['MAD'][:,:,:,0]\n",
    "Bands = f['DataContainers']['ImageDataContainer']['CellData']['Bands'][:,:,:,0]\n",
    "Errors = f['DataContainers']['ImageDataContainer']['CellData']['Error'][:,:,:,0]\n",
    "\n",
    "print(np.shape(phi_1)) "
   ]
  },
  {
   "cell_type": "markdown",
   "metadata": {},
   "source": [
    "### Extract the dimensions of the 3D-EBSD map (in voxels and um)"
   ]
  },
  {
   "cell_type": "code",
   "execution_count": 5,
   "metadata": {},
   "outputs": [
    {
     "name": "stdout",
     "output_type": "stream",
     "text": [
      "X size:  494 voxels\n",
      "Y size:  261 voxels\n",
      "Z size:  547 voxels\n"
     ]
    }
   ],
   "source": [
    "print(\"X size: \", np.shape(feature_IDs)[2], 'voxels') # X\n",
    "print(\"Y size: \", np.shape(feature_IDs)[1], 'voxels') # Y\n",
    "print(\"Z size: \", np.shape(feature_IDs)[0], 'voxels') # Z"
   ]
  },
  {
   "cell_type": "markdown",
   "metadata": {},
   "source": [
    "> In order to convert from voxels to um, the x,y,z spacings are extracted from the original datasets"
   ]
  },
  {
   "cell_type": "code",
   "execution_count": 6,
   "metadata": {},
   "outputs": [
    {
     "name": "stdout",
     "output_type": "stream",
     "text": [
      "Voxel size: [0.75, 1.0, 0.75]\n"
     ]
    }
   ],
   "source": [
    "spacings = list(f['DataContainers']['ImageDataContainer']['_SIMPL_GEOMETRY']['SPACING'])\n",
    "spacings.reverse()\n",
    "print('Voxel size:', spacings)"
   ]
  },
  {
   "cell_type": "code",
   "execution_count": 7,
   "metadata": {},
   "outputs": [
    {
     "name": "stdout",
     "output_type": "stream",
     "text": [
      "X size:  370.50 μm\n",
      "Y size:  261.00 μm\n",
      "Z size:  410.25 μm\n"
     ]
    }
   ],
   "source": [
    "a= np.shape(feature_IDs)[2]*spacings[0]\n",
    "b= np.shape(feature_IDs)[1]*spacings[1]\n",
    "c= np.shape(feature_IDs)[0]*spacings[2]\n",
    "\n",
    "print(\"X size: \", \"%.2f\" % a, '\\u03BCm') # X\n",
    "print(\"Y size: \", \"%.2f\" % b, '\\u03BCm') # Y\n",
    "print(\"Z size: \", \"%.2f\" % c, '\\u03BCm') # Z"
   ]
  },
  {
   "cell_type": "code",
   "execution_count": 8,
   "metadata": {},
   "outputs": [
    {
     "name": "stdout",
     "output_type": "stream",
     "text": [
      "X size:  493 slices\n",
      "Y size:  260 slices\n",
      "Z size:  546 slices\n"
     ]
    }
   ],
   "source": [
    "slicesx= np.shape(feature_IDs)[2]-1\n",
    "slicesy= np.shape(feature_IDs)[1]-1\n",
    "slicesz= np.shape(feature_IDs)[0]-1\n",
    "\n",
    "print(\"X size: \", \"%.0f\" % slicesx, 'slices') # X\n",
    "print(\"Y size: \", \"%.0f\" % slicesy, 'slices') # Y\n",
    "print(\"Z size: \", \"%.0f\" % slicesz, 'slices') # Z"
   ]
  },
  {
   "cell_type": "markdown",
   "metadata": {},
   "source": [
    "## Choose the slice to plot"
   ]
  },
  {
   "cell_type": "markdown",
   "metadata": {},
   "source": [
    ">Define function to plot slices through a specific axis in order to find a specific slice to export to ctf.\n",
    "\n",
    "<div class=\"alert alert-block alert-info\">\n",
    "<b>Tip:</b> Can be beneficial to use random colormap, especially when plotting feature_IDs to easily differentiate between neighbouring grains. Otherwise, a viridis scale is used. With shuffle, different colours will appear each time we plot the slices\n",
    "\n",
    "</div>"
   ]
  },
  {
   "cell_type": "markdown",
   "metadata": {},
   "source": [
    "## **Select the slice axis and number you want to plot**"
   ]
  },
  {
   "cell_type": "markdown",
   "metadata": {},
   "source": [
    "<div class=\"alert alert-block alert-warning\">\n",
    "<b> Input axis:\n",
    "    \n",
    "slice_axis = 0 ==> XY face <br>\n",
    "slice_axis = 1 ==> XZ face <br>\n",
    "slice_axis = 2 ==> YZ face\n",
    "\n",
    "</div>"
   ]
  },
  {
   "cell_type": "code",
   "execution_count": 9,
   "metadata": {},
   "outputs": [],
   "source": [
    "slice_axis = 0"
   ]
  },
  {
   "cell_type": "code",
   "execution_count": 10,
   "metadata": {},
   "outputs": [
    {
     "name": "stdout",
     "output_type": "stream",
     "text": [
      "For XY face, the slices are: 0 - 546\n",
      "For XZ face, the slices are: 0 - 260\n",
      "For YZ face, the slices are: 0 - 493\n"
     ]
    }
   ],
   "source": [
    "print('For XY face, the slices are: 0 -',slicesz) \n",
    "print('For XZ face, the slices are: 0 -',slicesy) \n",
    "print('For YZ face, the slices are: 0 -',slicesx) "
   ]
  },
  {
   "cell_type": "markdown",
   "metadata": {},
   "source": [
    "<div class=\"alert alert-block alert-warning\">\n",
    "<b>\n",
    "Input slice number: <br>\n",
    "\n",
    "</div>"
   ]
  },
  {
   "cell_type": "code",
   "execution_count": 11,
   "metadata": {},
   "outputs": [],
   "source": [
    "slice_number = 200"
   ]
  },
  {
   "cell_type": "code",
   "execution_count": 12,
   "metadata": {},
   "outputs": [
    {
     "data": {
      "image/png": "[encoded data removed]",
      "text/plain": [
       "<Figure size 640x480 with 1 Axes>"
      ]
     },
     "metadata": {},
     "output_type": "display_data"
    }
   ],
   "source": [
    "fig, ax = plt.subplots()\n",
    "if slice_axis==0:\n",
    "    img = ax.imshow(feature_IDs[slice_number,:,:],origin='lower')\n",
    "    plt.xlabel(\"X\")\n",
    "    plt.ylabel(\"Y\")\n",
    "if slice_axis==1:\n",
    "    img = ax.imshow(feature_IDs[:,slice_number,:],origin='lower')\n",
    "    plt.xlabel(\"X\")\n",
    "    plt.ylabel(\"Z\")\n",
    "if slice_axis==2:\n",
    "    img = ax.imshow(feature_IDs[:,:,slice_number],origin='lower')\n",
    "    plt.xlabel(\"Y\")\n",
    "    plt.ylabel(\"Z\")\n",
    "    \n",
    "plt.title('Slice ' + str(slice_number))\n",
    "plt.show()"
   ]
  },
  {
   "cell_type": "markdown",
   "metadata": {},
   "source": [
    "### Now all the data that belongs to the specified slice will be storaged in new variables"
   ]
  },
  {
   "cell_type": "code",
   "execution_count": 13,
   "metadata": {},
   "outputs": [],
   "source": [
    "    \n",
    "if slice_axis==0:\n",
    "    x_cells = np.shape(feature_IDs)[2]\n",
    "    y_cells = np.shape(feature_IDs)[0]\n",
    "    z_cells = np.shape(feature_IDs)[1]\n",
    "    \n",
    "    ctf_feature_IDs = feature_IDs[slice_number,:,:].flatten()\n",
    "    ctf_euler_1 = np.degrees(phi_1[slice_number,:,:].flatten())\n",
    "    ctf_euler_2 = np.degrees(Phi[slice_number,:,:].flatten())\n",
    "    ctf_euler_3 = np.degrees(phi_2[slice_number,:,:].flatten())\n",
    "   # ctf_BC = BCs[slice_number,:,:].flatten()\n",
    "    ctf_BS = BSs[slice_number,:,:].flatten()\n",
    "    ctf_MAD = MADs[slice_number,:,:].flatten()\n",
    "    ctf_Bands = Bands[slice_number,:,:].flatten()\n",
    "    ctf_Error = Errors[slice_number,:,:].flatten()\n",
    "\n",
    "if slice_axis==1:\n",
    "    x_cells = np.shape(feature_IDs)[2]\n",
    "    y_cells = np.shape(feature_IDs)[1]\n",
    "    z_cells = np.shape(feature_IDs)[0]\n",
    "\n",
    "    ctf_feature_IDs = feature_IDs[:,slice_number,:].flatten()\n",
    "    ctf_euler_1 = np.degrees(phi_1[:,slice_number,:].flatten())\n",
    "    ctf_euler_2 = np.degrees(Phi[:,slice_number,:].flatten())\n",
    "    ctf_euler_3 = np.degrees(phi_2[:,slice_number,:].flatten())\n",
    "  #  ctf_BC = BCs[:,slice_number,:].flatten()\n",
    "    ctf_BS = BSs[:,slice_number,:].flatten()\n",
    "    ctf_MAD = MADs[:,slice_number,:].flatten()\n",
    "    ctf_Bands = Bands[:,slice_number,:].flatten()\n",
    "    ctf_Error = Errors[:,slice_number,:].flatten()\n",
    "    \n",
    "if slice_axis==2:\n",
    "    x_cells = np.shape(feature_IDs)[1]\n",
    "    y_cells = np.shape(feature_IDs)[2]\n",
    "    z_cells = np.shape(feature_IDs)[0]\n",
    "    ctf_feature_IDs = feature_IDs[:,:,slice_number].flatten()\n",
    "    ctf_euler_1 = np.degrees(phi_1[:,:,slice_number].flatten())\n",
    "    ctf_euler_2 = np.degrees(Phi[:,:,slice_number].flatten())\n",
    "    ctf_euler_3 = np.degrees(phi_2[:,:,slice_number].flatten())\n",
    " #   ctf_BC = BCs[:,:,slice_number].flatten()\n",
    "    ctf_BS = BSs[:,:,slice_number].flatten()\n",
    "    ctf_MAD = MADs[:,:,slice_number].flatten()\n",
    "    ctf_Bands = Bands[:,:,slice_number].flatten()\n",
    "    ctf_Error = Errors[:,:,slice_number].flatten()"
   ]
  },
  {
   "cell_type": "markdown",
   "metadata": {},
   "source": [
    "## Extract the format from a cft file"
   ]
  },
  {
   "cell_type": "markdown",
   "metadata": {},
   "source": [
    "<div class=\"alert alert-block alert-warning\">\n",
    "<b>\n",
    "Import location and name of an example .ctf file\n",
    "\n",
    "</div>"
   ]
  },
  {
   "cell_type": "code",
   "execution_count": 14,
   "metadata": {},
   "outputs": [],
   "source": [
    "#directory = 'C:/Users/ITR/Desktop/My pipelines/NoBA microstructure' \n",
    "#Only add a new directory if ctf is stored in a different folder\n",
    "filename = '/../slice.ctf'\n",
    "file_path = directory+filename"
   ]
  },
  {
   "cell_type": "markdown",
   "metadata": {},
   "source": [
    ">Extract information from header as dictionary. Header consists of 13 lines before the information regarding phase names."
   ]
  },
  {
   "cell_type": "code",
   "execution_count": 15,
   "metadata": {},
   "outputs": [],
   "source": [
    "n_lines=13\n",
    "with open(file_path) as myfile:\n",
    "    head = [next(myfile).rstrip('\\n') for x in range(n_lines)]\n",
    "\n",
    "    if head[0] == 'Channel Text File':\n",
    "        header = {\n",
    "            'project': head[1].split('\\t')[1],\n",
    "            'authour': head[2].split('\\t')[1],\n",
    "            'JobMode': head[3].split('\\t')[1],\n",
    "            'XCells': int(head[4].split('\\t')[1]),\n",
    "            'YCells': int(head[5].split('\\t')[1]),\n",
    "            'XStep': float(head[6].split('\\t')[1]),\n",
    "            'YStep': float(head[7].split('\\t')[1]),\n",
    "            'AcqE1': float(head[8].split('\\t')[1]),\n",
    "            'AcqE2': float(head[9].split('\\t')[1]),\n",
    "            'AcqE3': float(head[10].split('\\t')[1]),\n",
    "            'data_spec': head[11],\n",
    "            'no_phases': int(head[12].split('\\t')[1]),\n",
    "            'phases': \"3.231;3.231;5.148\t90.000;90.000;120.000\tZirc-alloy4\t9\t0\t\t\t[ZR4_V3.CRY]\",\n",
    "        }"
   ]
  },
  {
   "cell_type": "markdown",
   "metadata": {},
   "source": [
    ">Calculate the step ratio after rotations and tilt correction"
   ]
  },
  {
   "cell_type": "code",
   "execution_count": 16,
   "metadata": {},
   "outputs": [],
   "source": [
    "#Extract the number of present phases from the header\n",
    "no_phases = header['no_phases']\n",
    "#From this, we can determine the overall header size.\n",
    "full_header_size = n_lines + no_phases\n",
    "\n",
    "#Extract size of x and y resolution for tilt correction\n",
    "XStep = header['XStep']\n",
    "YStep = header['YStep']\n",
    "\n",
    "#Define new step size (define as XStep or YStep for no change)\n",
    "new_y_step_size = spacings[2]\n",
    "new_x_step_size = spacings[0]\n",
    "\n",
    "#Create empty lists for data storage.\n",
    "#Numpy array created by pd.read_csv must be converted to list of lists,\n",
    "#and ultimately a list of strings such that an identical ctf format can be produced.\n",
    "data_list = []\n",
    "data_list_strings = []\n",
    "\n",
    "\n",
    "raw_data = np.zeros((int(x_cells)-1, int(y_cells)-1))\n",
    "\n",
    "# Convert numpy array to list of lists (data_list)\n",
    "data_list = raw_data.tolist()\n",
    "\n",
    "\n",
    "#Convert numpy array to list of lists (data_list)\n",
    "for row in raw_data:\n",
    "    row = list(row)\n",
    "    data_list.append(row)\n",
    "\n",
    "step_ratio_y = new_y_step_size/YStep\n",
    "step_ratio_x = new_x_step_size/XStep\n",
    "\n",
    "#Convert every row in data_list to string with correct no. of decimal places for each entry.\n",
    "lines = list(np.arange(1,z_cells))\n",
    "end_of_line = []\n",
    "for line in lines:\n",
    "    eol = line*x_cells\n",
    "    end_of_line.append(eol)"
   ]
  },
  {
   "cell_type": "markdown",
   "metadata": {},
   "source": [
    ">## Introduce data into the empty .ctf that we have created "
   ]
  },
  {
   "cell_type": "code",
   "execution_count": 17,
   "metadata": {},
   "outputs": [
    {
     "ename": "IndexError",
     "evalue": "index 547 is out of bounds for axis 0 with size 547",
     "output_type": "error",
     "traceback": [
      "\u001b[1;31m---------------------------------------------------------------------------\u001b[0m",
      "\u001b[1;31mIndexError\u001b[0m                                Traceback (most recent call last)",
      "Cell \u001b[1;32mIn[17], line 6\u001b[0m\n\u001b[0;32m      3\u001b[0m y_cells \u001b[38;5;241m=\u001b[39m np\u001b[38;5;241m.\u001b[39mshape(feature_IDs)[\u001b[38;5;241m0\u001b[39m]\n\u001b[0;32m      4\u001b[0m z_cells \u001b[38;5;241m=\u001b[39m np\u001b[38;5;241m.\u001b[39mshape(feature_IDs)[\u001b[38;5;241m1\u001b[39m]\n\u001b[1;32m----> 6\u001b[0m ctf_feature_IDs \u001b[38;5;241m=\u001b[39m feature_IDs[slice_number,:,:]\u001b[38;5;241m.\u001b[39mflatten()\n\u001b[0;32m      7\u001b[0m ctf_euler_1 \u001b[38;5;241m=\u001b[39m np\u001b[38;5;241m.\u001b[39mdegrees(phi_1[slice_number,:,:]\u001b[38;5;241m.\u001b[39mflatten())\n\u001b[0;32m      8\u001b[0m ctf_euler_2 \u001b[38;5;241m=\u001b[39m np\u001b[38;5;241m.\u001b[39mdegrees(Phi[slice_number,:,:]\u001b[38;5;241m.\u001b[39mflatten())\n",
      "\u001b[1;31mIndexError\u001b[0m: index 547 is out of bounds for axis 0 with size 547"
     ]
    }
   ],
   "source": [
    "for slice_number in range(2000):\n",
    "    x_cells = np.shape(feature_IDs)[2]\n",
    "    y_cells = np.shape(feature_IDs)[0]\n",
    "    z_cells = np.shape(feature_IDs)[1]\n",
    "    \n",
    "    ctf_feature_IDs = feature_IDs[slice_number,:,:].flatten()\n",
    "    ctf_euler_1 = np.degrees(phi_1[slice_number,:,:].flatten())\n",
    "    ctf_euler_2 = np.degrees(Phi[slice_number,:,:].flatten())\n",
    "    ctf_euler_3 = np.degrees(phi_2[slice_number,:,:].flatten())\n",
    "    #ctf_BC = BCs[slice_number,:,:].flatten()\n",
    "    ctf_BS = BSs[slice_number,:,:].flatten()\n",
    "    ctf_MAD = MADs[slice_number,:,:].flatten()\n",
    "    ctf_Bands = Bands[slice_number,:,:].flatten()\n",
    "    ctf_Error = Errors[slice_number,:,:].flatten()\n",
    "\n",
    "\n",
    "    x_spacing = spacings[0]\n",
    "    y_spacing = spacings[2]\n",
    "\n",
    "\n",
    "    raw_data = np.zeros((x_cells*z_cells,11))\n",
    "\n",
    "    data_list=[]\n",
    "#Convert numpy array to list of lists (data_list)\n",
    "    for row in raw_data:\n",
    "        row = list(row)\n",
    "        data_list.append(row)\n",
    "\n",
    "\n",
    "#Convert every row in data_list to string with correct no. of decimal places for each entry.\n",
    "    lines = list(np.arange(1,z_cells+1))\n",
    "    end_of_line = []\n",
    "    for line in lines:\n",
    "        eol = line*x_cells\n",
    "        end_of_line.append(eol)\n",
    "    \n",
    "    x_num = 0\n",
    "    y_num = 0\n",
    "    tot_it = 0\n",
    "    data_list_strings = []\n",
    "    for row in data_list:\n",
    "        if x_num < x_cells:\n",
    "            row[1] = str(\"{0:.4f}\".format(x_num*x_spacing))\n",
    "        if x_num >= x_cells:\n",
    "            row[1] = str(0.0000)\n",
    "            x_num = 0\n",
    "            y_num+=1\n",
    "    \n",
    "        if ctf_feature_IDs[tot_it] == 0:\n",
    "            row[0] = str(int(0))\n",
    "        else:\n",
    "            row[0] = str(int(1))\n",
    "        \n",
    "        row[2] = str(\"{0:.4f}\".format(y_num*y_spacing))\n",
    "        row[3] = str(int(ctf_Bands[tot_it]))\n",
    "        row[4] = str(int(ctf_Error[tot_it]))\n",
    "        row[5] = str(\"{0:.4f}\".format(ctf_euler_1[tot_it]))\n",
    "        row[6] = str(\"{0:.4f}\".format(ctf_euler_2[tot_it]))\n",
    "        row[7] = str(\"{0:.4f}\".format(ctf_euler_3[tot_it]))\n",
    "        row[8] = str(\"{0:.4f}\".format(ctf_MAD[tot_it]))\n",
    "       # row[9] = str(int(ctf_BC[tot_it]))\n",
    "        row[10] = str(int(ctf_BS[tot_it]))\n",
    "        x_num+=1\n",
    "        tot_it+=1\n",
    "    \n",
    "    \n",
    "    #Add newline command, such that when each row is saved to ctf/txt format, there is a new\n",
    "    #line for each row (as originally).\n",
    "        row.append(\"\\n\")\n",
    "    #Convert the current row (currently a list) to a string, with each value separated by a tab spacing.\n",
    "        row_string = '\\t'.join(str(x) for x in row)\n",
    "    #Add each row string to the list of row strings\n",
    "        data_list_strings.append(row_string)\n",
    "\n",
    "        #Create empty string for the header text. \n",
    "#Need to extract the original header to include in the exported ctf.\n",
    "    header_text = \"EBSD slice from 3D-EBSD processed with Dream.3D\"\n",
    "#Extract text only, no need to extract data - we want to retain\n",
    "#original formatting.\n",
    "    with open(file_path, \"r\") as fp:\n",
    "        for i, line in enumerate(fp):\n",
    "            if i <= full_header_size:\n",
    "                header_text = header_text + line\n",
    "\n",
    "#Each y position has been corrected for tilt, but the y step-size\n",
    "#should also be corrected.\n",
    "#Split the header text into individual lines so that the line \n",
    "#with y-step can be replaced.     \n",
    "    header_text = header_text.split(\"\\n\")\n",
    "    header_text[7] = \"YStep\" + \"\\t\" + str(\"{0:.4f}\".format(new_y_step_size))\n",
    "    header_text[6] = \"XStep\" + \"\\t\" + str(\"{0:.4f}\".format(new_x_step_size))\n",
    "#Rejoin the split text into one string spread over several lines\n",
    "    header_text = \"\\n\".join(header_text)\n",
    "\n",
    "\n",
    "    if slice_axis==0:\n",
    "        directory_for_ctfs=directory+'/SlicesXY/'\n",
    "        output_name = os.path.join(directory_for_ctfs, f'{slice_number}_slice_XY.ctf')\n",
    "\n",
    "\n",
    "    if slice_axis==1:\n",
    "        directory_for_ctfs=directory+'/SlicesXZ/'\n",
    "        output_name = os.path.join(directory_for_ctfs, f'{slice_number}_slice_XZ.ctf')\n",
    "        \n",
    "\n",
    "    if slice_axis==2:\n",
    "        directory_for_ctfs=directory+'/SlicesYZ/'\n",
    "        output_name = os.path.join(directory_for_ctfs, f'{slice_number}_slice_YZ.ctf')\n",
    "        \n",
    "    with open(output_name, \"w\") as text_file:\n",
    "        text_file.writelines(header_text)\n",
    "        text_file.writelines(data_list_strings)\n",
    "    #filename = output_name\n",
    "    #file_path = filename\n",
    "\n"
   ]
  }
 ],
 "metadata": {
  "kernelspec": {
   "display_name": "Python 3 (ipykernel)",
   "language": "python",
   "name": "python3"
  },
  "language_info": {
   "codemirror_mode": {
    "name": "ipython",
    "version": 3
   },
   "file_extension": ".py",
   "mimetype": "text/x-python",
   "name": "python",
   "nbconvert_exporter": "python",
   "pygments_lexer": "ipython3",
   "version": "3.11.4"
  }
 },
 "nbformat": 4,
 "nbformat_minor": 4
}
