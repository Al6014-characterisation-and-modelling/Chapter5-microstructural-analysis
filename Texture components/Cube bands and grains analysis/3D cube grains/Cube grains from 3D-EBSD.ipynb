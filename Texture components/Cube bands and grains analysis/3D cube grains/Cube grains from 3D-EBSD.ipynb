{
 "cells": [
  {
   "cell_type": "code",
   "execution_count": 2,
   "id": "e7003b57",
   "metadata": {},
   "outputs": [
    {
     "name": "stderr",
     "output_type": "stream",
     "text": [
      "C:\\Users\\GlassDesktop\\AppData\\Roaming\\Python\\Python311\\site-packages\\pandas\\core\\arrays\\masked.py:60: UserWarning: Pandas requires version '1.3.6' or newer of 'bottleneck' (version '1.3.5' currently installed).\n",
      "  from pandas.core import (\n"
     ]
    }
   ],
   "source": [
    "import h5py\n",
    "import numpy as np\n",
    "import pandas as pd\n",
    "from scipy.spatial.transform import Rotation as R"
   ]
  },
  {
   "cell_type": "code",
   "execution_count": 6,
   "id": "7f144a76",
   "metadata": {},
   "outputs": [
    {
     "name": "stderr",
     "output_type": "stream",
     "text": [
      "C:\\Users\\GlassDesktop\\AppData\\Local\\Temp\\ipykernel_26004\\2282510699.py:29: RuntimeWarning: invalid value encountered in divide\n",
      "  quatIA = quatIA / norms\n"
     ]
    },
    {
     "name": "stdout",
     "output_type": "stream",
     "text": [
      "IA Alloy: Found 34 cube-oriented grains.\n",
      "Cube-oriented Grain IDs (IA): [ 106  107  116  145  156  244  297  364  381  531  663  738 1124 1158\n",
      " 1182 1279 1343 1443 1505 1704 1729 1732 1738 1739 1839 1901 1903 1934\n",
      " 1992 2088 2099 2127 2136 2203]\n"
     ]
    }
   ],
   "source": [
    "def read_dream3d_file(file_path, dataset_name):\n",
    "    \"\"\"\n",
    "    Reads a dataset named `dataset_name` from the 'CellFeatureData' group in a DREAM.3D file.\n",
    "    Returns the data as a NumPy array.\n",
    "    \"\"\"\n",
    "    with h5py.File(file_path, 'r') as file:\n",
    "        group = file['DataContainers/ImageDataContainer/CellFeatureData']\n",
    "        dataset = group[dataset_name]\n",
    "        data = dataset[...]\n",
    "    return data\n",
    "\n",
    "# -------------------------------\n",
    "# 1) Read Grain-Level Quaternion Data for IA Alloy\n",
    "# -------------------------------\n",
    "file_IA = '../../3D/BA/BA_microstructure_cleanfilled_grainshape_misor_KAM_IPF.dream3d'\n",
    "quatIA = read_dream3d_file(file_IA, 'rotated_ori')  # Expected shape: (N,4)\n",
    "grainsIA = read_dream3d_file(file_IA, 'grainID')      # Expected shape: (N,) or (N,1)\n",
    "\n",
    "# Flatten grain IDs if necessary\n",
    "if grainsIA.ndim > 1:\n",
    "    grainsIA = grainsIA.flatten()\n",
    "\n",
    "# Ensure quaternions have shape (N,4); if extra columns exist, slice.\n",
    "if quatIA.ndim > 1 and quatIA.shape[1] > 4:\n",
    "    quatIA = quatIA[:, :4]\n",
    "\n",
    "# Normalize the quaternions (if not already unit length)\n",
    "norms = np.linalg.norm(quatIA, axis=1, keepdims=True)\n",
    "quatIA = quatIA / norms\n",
    "\n",
    "# -------------------------------\n",
    "# 2) Define Cube Orientation Comparison Functions (Quaternion Version)\n",
    "# -------------------------------\n",
    "def misorientation_angle(q1, q2):\n",
    "    \"\"\"\n",
    "    Computes the misorientation angle (in degrees) between two unit quaternions.\n",
    "    Both q1 and q2 should be arrays of shape (4,).  \n",
    "    Uses: angle = 2 * arccos(|dot(q1, q2)|)\n",
    "    \"\"\"\n",
    "    q1 = np.asarray(q1).flatten()\n",
    "    q2 = np.asarray(q2).flatten()\n",
    "    dot = abs(np.dot(q1, q2))\n",
    "    dot = np.clip(dot, 0, 1)\n",
    "    angle_rad = 2 * np.arccos(dot)\n",
    "    return np.degrees(angle_rad)\n",
    "\n",
    "# Define a list of cube variants in Euler angles (Bunge convention).\n",
    "cube_variants_euler = [\n",
    "    (0, 0, 0),\n",
    "    (0, 0, 90),\n",
    "    (0, 0, 180),\n",
    "    (90, 90, 0),\n",
    "    (90, 90, 90),\n",
    "    (90, 90, 180)\n",
    "]\n",
    "# Convert these Euler angles to quaternions.\n",
    "# Adjust the Euler angle convention if needed (here we use 'zxz').\n",
    "cube_variants_quat = R.from_euler('zxz', cube_variants_euler, degrees=True).as_quat()\n",
    "\n",
    "def is_cube_quaternion(q, tol):\n",
    "    \"\"\"\n",
    "    Returns True if quaternion q (shape (4,)) is within tol degrees (misorientation)\n",
    "    of any cube variant quaternion.\n",
    "    \"\"\"\n",
    "    for cq in cube_variants_quat:\n",
    "        if misorientation_angle(q, cq) < tol:\n",
    "            return True\n",
    "    return False\n",
    "\n",
    "# -------------------------------\n",
    "# 3) Identify Cube-Oriented Grains for IA Alloy\n",
    "# -------------------------------\n",
    "tol_degs = 10  # Tolerance in degrees\n",
    "cube_mask_IA = np.array([is_cube_quaternion(q, tol=tol_degs) for q in quatIA])\n",
    "cube_grains_IA = np.array(grainsIA)[cube_mask_IA]\n",
    "\n",
    "print(f\"IA Alloy: Found {len(cube_grains_IA)} cube-oriented grains.\")\n",
    "print(\"Cube-oriented Grain IDs (IA):\", cube_grains_IA)\n",
    "\n",
    "# -------------------------------\n",
    "# 4) Save the Results\n",
    "# -------------------------------\n",
    "pd.Series(cube_grains_IA, name=\"CubeOrientedGrainIDs\").to_csv(\"CubeGrains_IA.csv\", index=False)\n"
   ]
  },
  {
   "cell_type": "code",
   "execution_count": 6,
   "id": "1f488e4e",
   "metadata": {},
   "outputs": [
    {
     "name": "stderr",
     "output_type": "stream",
     "text": [
      "C:\\Users\\GlassDesktop\\AppData\\Local\\Temp\\ipykernel_26528\\130432836.py:15: RuntimeWarning: invalid value encountered in divide\n",
      "  quatNoIA = quatNoIA / norms\n"
     ]
    },
    {
     "name": "stdout",
     "output_type": "stream",
     "text": [
      "No IA Alloy: Found 73 cube-oriented grains.\n",
      "Cube-oriented Grain IDs (No IA): [  49   72  158  182  275  287  307  315  333  349  373  379  410  440\n",
      "  458  493  506  508  518  578  598  600  615  677  754  770  782  857\n",
      "  864  958  970  971  990 1007 1008 1063 1153 1196 1294 1321 1373 1392\n",
      " 1457 1494 1545 1556 1592 1631 1654 1664 1674 1680 1802 1908 1916 1961\n",
      " 1962 1987 2001 2003 2009 2034 2066 2081 2101 2102 2140 2217 2253 2271\n",
      " 2342 2378 2410]\n"
     ]
    }
   ],
   "source": [
    "\n",
    "# -------------------------------\n",
    "# 1) Read Grain-Level Quaternion Data for No IA Alloy\n",
    "# -------------------------------\n",
    "file_NoIA = '../../3D/NoBA/NoBA_microstructure_cleanfilled_grainshape_misor_KAM_IPF.dream3d'\n",
    "quatNoIA = read_dream3d_file(file_NoIA, 'rotated_ori')  # Expected shape: (N,4)\n",
    "grainsNoIA = read_dream3d_file(file_NoIA, 'grainID')      # Expected shape: (N,) or (N,1)\n",
    "\n",
    "if grainsNoIA.ndim > 1:\n",
    "    grainsNoIA = grainsNoIA.flatten()\n",
    "if quatNoIA.ndim > 1 and quatNoIA.shape[1] > 4:\n",
    "    quatNoIA = quatNoIA[:, :4]\n",
    "\n",
    "# Normalize quaternions\n",
    "norms = np.linalg.norm(quatNoIA, axis=1, keepdims=True)\n",
    "quatNoIA = quatNoIA / norms\n",
    "\n",
    "# -------------------------------\n",
    "# 2) Identify Cube-Oriented Grains for No IA Alloy\n",
    "# -------------------------------\n",
    "tol_degs = 10  # Tolerance in degrees\n",
    "cube_mask_NoIA = np.array([is_cube_quaternion(q, tol=tol_degs) for q in quatNoIA])\n",
    "cube_grains_NoIA = np.array(grainsNoIA)[cube_mask_NoIA]\n",
    "\n",
    "print(f\"No IA Alloy: Found {len(cube_grains_NoIA)} cube-oriented grains.\")\n",
    "print(\"Cube-oriented Grain IDs (No IA):\", cube_grains_NoIA)\n",
    "\n",
    "# -------------------------------\n",
    "# 3) Save the Results\n",
    "# -------------------------------\n",
    "pd.Series(cube_grains_NoIA, name=\"CubeOrientedGrainIDs\").to_csv(\"CubeGrains_NoIA.csv\", index=False)\n"
   ]
  },
  {
   "cell_type": "code",
   "execution_count": null,
   "id": "ff27f864",
   "metadata": {},
   "outputs": [],
   "source": []
  }
 ],
 "metadata": {
  "kernelspec": {
   "display_name": "base",
   "language": "python",
   "name": "python3"
  },
  "language_info": {
   "codemirror_mode": {
    "name": "ipython",
    "version": 3
   },
   "file_extension": ".py",
   "mimetype": "text/x-python",
   "name": "python",
   "nbconvert_exporter": "python",
   "pygments_lexer": "ipython3",
   "version": "3.11.4"
  }
 },
 "nbformat": 4,
 "nbformat_minor": 5
}
